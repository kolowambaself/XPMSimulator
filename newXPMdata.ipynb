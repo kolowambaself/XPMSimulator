{
  "nbformat": 4,
  "nbformat_minor": 0,
  "metadata": {
    "colab": {
      "provenance": [],
      "private_outputs": true,
      "include_colab_link": true
    },
    "kernelspec": {
      "name": "python3",
      "display_name": "Python 3"
    },
    "language_info": {
      "name": "python"
    },
    "gpuClass": "standard"
  },
  "cells": [
    {
      "cell_type": "markdown",
      "metadata": {
        "id": "view-in-github",
        "colab_type": "text"
      },
      "source": [
        "<a href=\"https://colab.research.google.com/github/nEXOSkyline/XPMSimulator/blob/main/newXPMdata.ipynb\" target=\"_parent\"><img src=\"https://colab.research.google.com/assets/colab-badge.svg\" alt=\"Open In Colab\"/></a>"
      ]
    },
    {
      "cell_type": "code",
      "execution_count": null,
      "metadata": {
        "id": "0sRCsFc7JClS"
      },
      "outputs": [],
      "source": [
        "!wget https://github.com/MohamedElashri/HEP-ML/releases/download/ROOT/ROOT.tar.zip\n",
        "!unzip /content/ROOT.tar.zip\n",
        "!tar -xf  ROOT.tar\n",
        "!apt-get install git dpkg-dev cmake g++ gcc binutils libx11-dev libxpm-dev libxft-dev libxext-dev tar gfortran subversion libpython3.6-dev\n",
        "!pip install plotly\n",
        "import sys\n",
        "sys.path.append(\"/content/root_build/\")\n",
        "sys.path.append(\"/content/root_build/bin/\")\n",
        "sys.path.append(\"/content/root_build/include/\")\n",
        "sys.path.append(\"/content/root_build/lib/\")\n",
        "import ctypes\n",
        "ctypes.cdll.LoadLibrary('/content/root_build/lib//libCore.so')\n",
        "ctypes.cdll.LoadLibrary('/content/root_build/lib//libThread.so')\n",
        "ctypes.cdll.LoadLibrary('/content/root_build/lib//libTreePlayer.so')\n",
        "import ROOT\n",
        "\n"
      ]
    },
    {
      "cell_type": "code",
      "source": [
        "# Load the Drive helper and mount\n",
        "from google.colab import drive\n",
        "\n",
        "# This will prompt for authorization.\n",
        "drive.mount('/content/drive')\n",
        "! git clone https://github.com/nEXOSkyline/XPMSimulator"
      ],
      "metadata": {
        "id": "ToaT0Hbb1fWd"
      },
      "execution_count": null,
      "outputs": []
    },
    {
      "cell_type": "code",
      "source": [
        "! cd XPMSimulator && git remote update && git merge origin/main"
      ],
      "metadata": {
        "id": "fVqlnKveWmSK"
      },
      "execution_count": null,
      "outputs": []
    },
    {
      "cell_type": "code",
      "source": [
        "import sys, os\n",
        "import glob\n",
        "import numpy as np\n",
        "import matplotlib as mpl\n",
        "mpl.rc('figure',facecolor='white')\n",
        "from matplotlib import pyplot as plt\n",
        "from matplotlib import dates as dt\n",
        "from collections import defaultdict\n",
        "import seaborn as sns\n",
        "from array import array\n",
        "import plotly.express as px\n",
        "plt.rcParams[\"figure.figsize\"] = (12,9)\n",
        "\n",
        "#import datetime\n",
        "import sys\n",
        "sys.path.append(\"/content/root_build/\")\n",
        "sys.path.append(\"/content/root_build/bin/\")\n",
        "sys.path.append(\"/content/root_build/include/\")\n",
        "sys.path.append(\"/content/root_build/lib/\")\n",
        "import ctypes\n",
        "ctypes.cdll.LoadLibrary('/content/root_build/lib//libCore.so')\n",
        "ctypes.cdll.LoadLibrary('/content/root_build/lib//libThread.so')\n",
        "ctypes.cdll.LoadLibrary('/content/root_build/lib//libTreePlayer.so')\n",
        "import ROOT\n",
        "from ROOT import TCanvas, TPad, TFormula, TF1, TPaveLabel, TH1F, TFile, TPaveText\n",
        "from ROOT import gROOT, gBenchmark\n",
        "ROOT.gErrorIgnoreLevel = 3000\n",
        "# Check version of python, works with two or three\n",
        "#version = sys.version_info.major\n",
        "def vtoa( buf, entries ):\n",
        "  retarr = []\n",
        "  for idx in range(0,entries-1) :\n",
        "    retarr.append( buf[idx] )\n",
        "  return retarr\n",
        "#hardcoded stuff\n",
        "#path = 'C:/Users/exouser/Desktop/xpm_fitter_data/'    \n",
        "#path = './'    \n",
        "#path = '/mnt/c/Users/exouser/Desktop/xpm_fitter_data/'    \n",
        "#path = '/home/kolo/Downloads/kolos_stuff_from_lab_PC/'    \n",
        "path = '/content/XPMSimulator/analysis/'\n",
        "#path = 'https://github.com/shamondho/nEXOskyline/tree/main/XPM_analysis/data/'\n",
        "\n",
        "#myhist = ROOT.TH2F()\n",
        "#myhist.SetName('myhist')\n",
        "\n",
        "tree = ROOT.TTree('xpmdata','')\n",
        "t2 = ROOT.TTree('t2','')\n",
        "\n",
        "es = 0\n",
        "sim = array('f',[0.0])\n",
        "my_list_of_files = glob.glob(path + 'stand1000.txt')\n",
        "tree.ReadFile(my_list_of_files[0],'Tc:Ta:TcRise:TaRise:cat:an:offst:datime/D:IR:UV:chi2:n1:n2:catll:catul:anll:anul',',')\n",
        "print(tree.GetEntries())\n",
        "tree.Draw('datime','','goff')\n",
        "tcut = 'Entry$>=0'\n",
        "tstart = vtoa(tree.GetV1(),tree.GetSelectedRows())[0]\n",
        "tree.Draw('(Ta-Tc)/log(cat/an):(datime-'+str(tstart)+')/3600.0',tcut,'goff')\n",
        "tau = vtoa(tree.GetV1(),tree.GetSelectedRows())\n",
        "tree.Draw('(Ta-Tc)/log(catll/anul):(datime-'+str(tstart)+')/3600.0',tcut,'goff')\n",
        "taumin = vtoa(tree.GetV1(),tree.GetSelectedRows())\n",
        "tree.Draw('(Ta-Tc)/log(catul/anll):(datime-'+str(tstart)+')/3600.0',tcut,'goff')\n",
        "taumax = vtoa(tree.GetV1(),tree.GetSelectedRows())\n",
        "\n",
        "print(tree.GetEntries())\n",
        "\n",
        "\n",
        "\n",
        "x = vtoa(tree.GetV2(),tree.GetSelectedRows())\n",
        "et = 1.0\n",
        "y = np.array(tau)\n",
        "ely = tau-np.array(taumin)\n",
        "ehy = np.array(taumax) - tau\n",
        "\n",
        "errormatrix = np.array([np.array(ely),np.array(ehy)])\n",
        "plt.errorbar(x,y,yerr=errormatrix,fmt='ro')\n",
        "plt.ylabel('fitted $\\\\tau$ [$\\mu$s]')\n",
        "plt.xlabel('time [hours]')\n",
        "\n",
        "my_list_of_files = glob.glob(path + 'prop1000.txt')\n",
        "t2.ReadFile(my_list_of_files[0],'Tc:Ta:TcRise:TaRise:cat:an:offst:datime/D:IR:UV:chi2:n1:n2:catll:catul:anll:anul',',')\n",
        "t2.Draw('datime','','goff')\n",
        "tstart = vtoa(t2.GetV1(),t2.GetSelectedRows())[0]\n",
        "t2.Draw('(Ta-Tc)/log(cat/an):(datime-'+str(tstart)+')/3600.0+'+str(et),tcut,'goff')\n",
        "tau = vtoa(t2.GetV1(),t2.GetSelectedRows())\n",
        "t2.Draw('(Ta-Tc)/log(catll/anul):(datime-'+str(tstart)+')/3600.0+'+str(et),tcut,'goff')\n",
        "taumin = vtoa(t2.GetV1(),t2.GetSelectedRows())\n",
        "t2.Draw('(Ta-Tc)/log(catul/anll):(datime-'+str(tstart)+')/3600.0+'+str(et),tcut,'goff')\n",
        "taumax = vtoa(t2.GetV1(),t2.GetSelectedRows())\n",
        "\n",
        "x = vtoa(t2.GetV2(),t2.GetSelectedRows())\n",
        "y = np.array(tau)\n",
        "ely = tau-np.array(taumin)\n",
        "ehy = np.array(taumax) - tau\n",
        "\n",
        "errormatrix = np.array([np.array(ely),np.array(ehy)])\n",
        "plt.errorbar(x,y,yerr=errormatrix,fmt='bo')\n",
        "plt.gca().set_xlim(-0.1,2.6)\n",
        "plt.plot(np.arange(-0.5,3.0,0.35),1000.0*np.ones(10),'g-')\n",
        "plt.ylabel('fitted $\\\\tau$ [$\\mu$s]')\n",
        "plt.xlabel('time [hours]')\n",
        "#tree.Scan('(Ta-Tc)/log(cat/an):datime',\"Entry$<20\",'colsize=20 col=:%10.5g')\n",
        "\n"
      ],
      "metadata": {
        "id": "3WTFeA-2wSaA"
      },
      "execution_count": null,
      "outputs": []
    },
    {
      "cell_type": "code",
      "source": [
        "!sudo apt-get install libpython3.6-dev"
      ],
      "metadata": {
        "id": "wrlkPjE6cdlh"
      },
      "execution_count": null,
      "outputs": []
    },
    {
      "cell_type": "code",
      "source": [
        "#using dictionaries to find the number of bins \n",
        "UV_dict = defaultdict(list) #used defaultdict to prevent dict from being classified as 'Nonetype' \n",
        "#logUV.sort()\n",
        " \n",
        "for num in range(0,len(logUV)):\n",
        "  x_val = logUV[num]\n",
        "\n",
        "  UV_dict.setdefault(x_val, []).append(logcat[num]) #appending y values to specific key/x-value\n",
        "\n",
        "new_x = list(UV_dict.keys())\n",
        "x_bins = len(new_x)\n",
        "\n",
        "\n"
      ],
      "metadata": {
        "id": "2o8ypEhjT4Jf"
      },
      "execution_count": null,
      "outputs": []
    },
    {
      "cell_type": "code",
      "source": [
        "#all the files included in the section above \n",
        "\n",
        "#myhist = ROOT.TH2F('myhist','',50,1.5,3.0,50,1.3,2.0)\n",
        "\n",
        "myhist = ROOT.TH2F('myhist','',x_bins,1.5,3.0,50,1.3,2.0) #using dictionary to find number of x bins \n",
        "#3rd parameter is number of bins in x direction, 4th is x-min and 5th is x-max\n",
        "#same for y direction at 6th parameter\n",
        "#print(tree.GetEntries())\n",
        "tree.Draw('log10(cat):log10(UV)>>myhist','log10(UV)>1.0 && log10(cat)>1.25','goff')\n",
        "       \n",
        " \n",
        "myprof = myhist.ProfileX()\n",
        "\n",
        "  \n",
        "      \n",
        "x = []\n",
        "y = []\n",
        "e = []\n",
        "ex = []\n",
        "for bin in range(1,myprof.GetNbinsX()+2) :\n",
        "   # print(bin,myprof.GetBinContent(bin),myprof.GetBinEntries(bin))\n",
        "   #if( myprof.GetBinEntries(bin)<=3 ): continue\n",
        "   x.append(myprof.GetBinCenter(bin))\n",
        "   y.append(myprof.GetBinContent(bin))\n",
        "   e.append(myprof.GetBinError(bin))\n",
        "   ex.append(myprof.GetBinWidth(bin)/2.0)\n",
        "       \n",
        "plt.errorbar(x,y,e)\n",
        "plt.plot(logUV,logcat,'bo',markersize=1.5)\n",
        "plt.ylabel('logcat')\n",
        "plt.xlabel('logUV')\n",
        "      \n"
      ],
      "metadata": {
        "id": "bp0oM1OTs9Cy"
      },
      "execution_count": null,
      "outputs": []
    },
    {
      "cell_type": "code",
      "source": [
        "\n",
        "plt.errorbar(x,y,e)\n",
        "\n",
        "a, b = np.polyfit(x, y, 1)\n",
        "\n",
        "#find method (stats-related) that provides confidence interval, or see if polyfit does that\n",
        "\n",
        "\n",
        "for nums in range(0, len(x)):\n",
        "    plt.plot(x[nums], a*x[nums]+b, 'mo', markersize=1.5)\n",
        "    \n",
        "\n",
        "print('Line of best fit: y = ' + str(a) + 'x + ' + str(b))\n",
        "plt.ylabel('logcat')\n",
        "plt.xlabel('logUV')\n"
      ],
      "metadata": {
        "id": "Fa-HPjOIBzU4"
      },
      "execution_count": null,
      "outputs": []
    },
    {
      "cell_type": "code",
      "source": [
        "#confidence interval\n",
        "\n",
        "from scipy import stats\n",
        "plt.errorbar(x,y,e)\n",
        "\n",
        "slope, intercept, r_value, p_value, std_err = stats.linregress(x,y)\n",
        "#result = stats.linregress(x,y)\n",
        "\n",
        "#confidence_interval = 2.58*std_err\n",
        "confidence_interval = 1.703*std_err #1.703 is the t value I obtained from t-table for dof = 26, 95% confidence interval\n",
        "for nums in range(0, len(x)):\n",
        "   \n",
        "   plt.plot(x[nums], a*x[nums]+b, 'mo', markersize=1.5)\n",
        "   \n",
        "   plt.plot(x[nums], (a+confidence_interval)*x[nums]+b, 'ro', markersize = 1.5) #upper limit \n",
        "   plt.plot(x[nums], (a-confidence_interval)*x[nums]+b, 'go', markersize = 1.5) #lower limit\n",
        "\n",
        "plt.ylabel('logcat')\n",
        "plt.xlabel('logUV')\n",
        "\n",
        "print('The slope of the line of best fit is equal to ' + str(a) + ' '+ u\"\\u00B1\" + ' '+ str(confidence_interval))\n",
        "\n",
        "#need to update scipy to find confidence interval for intercept, should be an instance of object resulting from linregress() \n",
        "\n",
        "    "
      ],
      "metadata": {
        "id": "FNkcQHs42iYe"
      },
      "execution_count": null,
      "outputs": []
    },
    {
      "cell_type": "code",
      "source": [
        "#potential approach using dictionaries \n",
        "UV_dict = defaultdict(list) #used defaultdict to prevent dict from being classified as 'Nonetype' \n",
        "#logUV.sort()\n",
        "\n",
        "for num in range(0,len(logUV)):\n",
        "  x_val = logUV[num]\n",
        "\n",
        "  UV_dict.setdefault(x_val, []).append(logcat[num]) #appending y values to specific key/x-value\n",
        "\n",
        "#print(UV_dict.values())\n",
        "new_x = list(UV_dict.keys()) #new x values/logUV values\n",
        "new_y = list(UV_dict.values()) #new y values/logcat values\n",
        "\n",
        "for i in range(0, len(new_y)):\n",
        "    s = sum(new_y[i])\n",
        "    l = len(new_y[i])\n",
        "    average = s/l\n",
        "    new_y[i] = average\n",
        "\n",
        "\n",
        "plt.plot(new_x,new_y,'bo',markersize=1.5)\n",
        "\n"
      ],
      "metadata": {
        "id": "s7SXNO_aOpBT"
      },
      "execution_count": null,
      "outputs": []
    }
  ]
}