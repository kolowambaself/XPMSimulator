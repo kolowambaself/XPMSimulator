{
  "nbformat": 4,
  "nbformat_minor": 0,
  "metadata": {
    "colab": {
      "provenance": [],
      "authorship_tag": "ABX9TyO39U00gC+3LCWY+T5KebhO",
      "include_colab_link": true
    },
    "kernelspec": {
      "name": "python3",
      "display_name": "Python 3"
    },
    "language_info": {
      "name": "python"
    }
  },
  "cells": [
    {
      "cell_type": "markdown",
      "metadata": {
        "id": "view-in-github",
        "colab_type": "text"
      },
      "source": [
        "<a href=\"https://colab.research.google.com/github/nEXOSkyline/XPMSimulator/blob/main/pyROOTsetup.ipynb\" target=\"_parent\"><img src=\"https://colab.research.google.com/assets/colab-badge.svg\" alt=\"Open In Colab\"/></a>"
      ]
    },
    {
      "cell_type": "code",
      "execution_count": null,
      "metadata": {
        "id": "f-RzmDlQpHvF"
      },
      "outputs": [],
      "source": [
        "!wget https://www.bunsutechnologies.com/rootWithPython310.tar.gz\n",
        "!tar -zxvf rootWithPython310.tar.gz\n",
        "!apt-get install git dpkg-dev cmake g++ gcc binutils libx11-dev libxpm-dev libxft-dev libxext-dev tar gfortran subversion libpython3.10-dev\n",
        "import sys\n",
        "sys.path.append(\"/content/rootWithPython310/root_build/\")\n",
        "sys.path.append(\"/content/rootWithPython310/bin/\")\n",
        "sys.path.append(\"/content/rootWithPython310/include/\")\n",
        "sys.path.append(\"/content/rootWithPython310/lib/\")\n",
        "import ctypes\n",
        "ctypes.cdll.LoadLibrary('/content/rootWithPython310/lib/libCore.so')\n",
        "ctypes.cdll.LoadLibrary('/content/rootWithPython310/lib/libThread.so')\n",
        "ctypes.cdll.LoadLibrary('/content/rootWithPython310/lib/libTreePlayer.so')\n",
        "import ROOT"
      ]
    }
  ]
}